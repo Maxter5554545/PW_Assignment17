{
 "cells": [
  {
   "cell_type": "code",
   "execution_count": 1,
   "id": "a9f8ede3-15f1-4e66-a6e6-c4c6156b56bd",
   "metadata": {},
   "outputs": [],
   "source": [
    "import logging\n",
    "logging.basicConfig(filename=\"Assign17.log\", level = logging.ERROR)"
   ]
  },
  {
   "cell_type": "code",
   "execution_count": null,
   "id": "c00f5455-1838-4397-b34e-4c284c6845f3",
   "metadata": {},
   "outputs": [],
   "source": [
    "# Q1. What is an API? Give an example, where an API is used in real life.\n",
    "try:\n",
    "    logging.info(\"A.P.I. is an application programming interface is a set of rules That allows different software applications for connecting many external programs with your programs to the server. It is used in many things like Google maps, transactions, chat-bots etc\")\n",
    "except TypeError as t:\n",
    "    logging.error(t)"
   ]
  },
  {
   "cell_type": "code",
   "execution_count": null,
   "id": "67336823-2d81-4ca6-a32e-3aa44b8d5a16",
   "metadata": {},
   "outputs": [],
   "source": [
    "# Q2. Give advantages and disadvantages of using API.\n",
    "try:\n",
    "    logging.info('''Advantages of A.P.I.s are =>\n",
    "    1. A.P.I.s can be used for allowing different softwares applications to connect many external applications programs with our programs.\n",
    "    2. A.P.I.s make the complex programs easy cause we use external programs and link it with our programs, by which we are able to access to access through that A.P.I. .\n",
    "    Disadvantages of A.P.I. => \n",
    "    1. One of the disadvantage of A.P.I. is if the A.P.I. is online or can access through web/internet & if the servers of that A.P.I.s are not working then we'll be unable to use the components of that A.P.I.''')\n",
    "except TypeError as t:\n",
    "    logging.error(t)"
   ]
  },
  {
   "cell_type": "code",
   "execution_count": null,
   "id": "1a23c163-217c-4821-aabf-2017230003bc",
   "metadata": {},
   "outputs": [],
   "source": [
    "# Q3. What is a Web API? Differentiate between API and Web API.\n",
    "try:\n",
    "    logging.info('''Web A.P.I. is a type of A.P.I. in which client the requsts the server through HTTP if the server responses then we'll be able to use that A.P.I. else it'll reject our request.\n",
    "    Difference between A.P.I. & Web A.P.I is =>\n",
    "    1. A.P.I. is a Application programming interface in which we can use that A.P.I. only to our local system, while Web A.P.I.s can be used all over the world.\n",
    "    2.In A.P.I. we can directly use the A.P.I. while in web A.P.I. our client makes a requst to the A.P.I.s server through HTTP.\n",
    "    3. A.P.I. are independent to use while, Web A.P.I.s are dependable. ''')\n",
    "except TypeError as t:\n",
    "    logging.error(t)"
   ]
  },
  {
   "cell_type": "code",
   "execution_count": null,
   "id": "c2ddbfe8-e95e-4393-8e74-365c55ed9c8e",
   "metadata": {},
   "outputs": [],
   "source": [
    "# Q4. Explain REST and SOAP Architecture. Mention shortcomings of SOAP.\n",
    "try:\n",
    "    logging.info('''REST => REST is known as Representational State transfer which is set of Principles for building web servies that uses http as it's transmission protocol\n",
    "    SOAP => SOAP is same as the REST used for web services, but it uses XML services like TCP, SMTP, HTTP etc. \n",
    "    Short commings of SOAP =>\n",
    "    1.It creates complexity due to it's XML format.\n",
    "    2.The XML format & additional requirements can make SOAP slower compared to REST.\n",
    "    3.Flexibility: SOAP has more rigid structure which can be a disadvantage.''')\n",
    "except TypeError as t: \n",
    "    logging.error(t)"
   ]
  },
  {
   "cell_type": "code",
   "execution_count": null,
   "id": "3474b1b6-e4ce-475d-9d70-7f45b75f1a44",
   "metadata": {},
   "outputs": [],
   "source": [
    "# Q5. Differentiate between REST and SOAP.\n",
    "try:\n",
    "    logging.info('''1.REST is known as Representational State transfer which is set of Principles for building web servies that uses http as it's transmission protocol while\n",
    "    SOAP is same as the REST used for web services, but it uses XML services like TCP, SMTP, HTTP etc.\n",
    "    2.REST uses html methods(GET, POST, PUT, DELETE) for the web services while SOAP uses HTTP, SMTP, and TCP etc for the web services\n",
    "    3.SOAP creates complexity due to it's XML format while the REST do not make the program complex.\n",
    "    4.REST have stateless behaviour it stores all the informations needed, at once while SOAP has both Statefull and Stateless behaviour ''')\n",
    "except TypeError as t:\n",
    "    logging.error(t)"
   ]
  },
  {
   "cell_type": "code",
   "execution_count": null,
   "id": "991064e4-0ef9-4625-877a-d6ccfd1d939e",
   "metadata": {},
   "outputs": [],
   "source": []
  }
 ],
 "metadata": {
  "kernelspec": {
   "display_name": "Python 3 (ipykernel)",
   "language": "python",
   "name": "python3"
  },
  "language_info": {
   "codemirror_mode": {
    "name": "ipython",
    "version": 3
   },
   "file_extension": ".py",
   "mimetype": "text/x-python",
   "name": "python",
   "nbconvert_exporter": "python",
   "pygments_lexer": "ipython3",
   "version": "3.10.8"
  }
 },
 "nbformat": 4,
 "nbformat_minor": 5
}
